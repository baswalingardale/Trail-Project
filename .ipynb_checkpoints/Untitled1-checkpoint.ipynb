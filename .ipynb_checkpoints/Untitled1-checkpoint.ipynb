{
 "cells": [
  {
   "cell_type": "code",
   "execution_count": 1,
   "id": "bf6f608f",
   "metadata": {},
   "outputs": [],
   "source": [
    "import pandas as pd\n",
    "import numpy as np"
   ]
  },
  {
   "cell_type": "code",
   "execution_count": 2,
   "id": "76edd659",
   "metadata": {},
   "outputs": [
    {
     "data": {
      "text/html": [
       "<div>\n",
       "<style scoped>\n",
       "    .dataframe tbody tr th:only-of-type {\n",
       "        vertical-align: middle;\n",
       "    }\n",
       "\n",
       "    .dataframe tbody tr th {\n",
       "        vertical-align: top;\n",
       "    }\n",
       "\n",
       "    .dataframe thead th {\n",
       "        text-align: right;\n",
       "    }\n",
       "</style>\n",
       "<table border=\"1\" class=\"dataframe\">\n",
       "  <thead>\n",
       "    <tr style=\"text-align: right;\">\n",
       "      <th></th>\n",
       "      <th>brand</th>\n",
       "      <th>km_driven</th>\n",
       "      <th>fuel</th>\n",
       "      <th>owner</th>\n",
       "      <th>selling_price</th>\n",
       "    </tr>\n",
       "  </thead>\n",
       "  <tbody>\n",
       "    <tr>\n",
       "      <th>7845</th>\n",
       "      <td>Toyota</td>\n",
       "      <td>80000</td>\n",
       "      <td>Diesel</td>\n",
       "      <td>Second Owner</td>\n",
       "      <td>626000</td>\n",
       "    </tr>\n",
       "    <tr>\n",
       "      <th>6705</th>\n",
       "      <td>Honda</td>\n",
       "      <td>7032</td>\n",
       "      <td>Petrol</td>\n",
       "      <td>First Owner</td>\n",
       "      <td>779000</td>\n",
       "    </tr>\n",
       "    <tr>\n",
       "      <th>3144</th>\n",
       "      <td>Tata</td>\n",
       "      <td>70000</td>\n",
       "      <td>Petrol</td>\n",
       "      <td>Second Owner</td>\n",
       "      <td>120000</td>\n",
       "    </tr>\n",
       "    <tr>\n",
       "      <th>5256</th>\n",
       "      <td>Mercedes-Benz</td>\n",
       "      <td>17000</td>\n",
       "      <td>Petrol</td>\n",
       "      <td>First Owner</td>\n",
       "      <td>5200000</td>\n",
       "    </tr>\n",
       "  </tbody>\n",
       "</table>\n",
       "</div>"
      ],
      "text/plain": [
       "              brand  km_driven    fuel         owner  selling_price\n",
       "7845         Toyota      80000  Diesel  Second Owner         626000\n",
       "6705          Honda       7032  Petrol   First Owner         779000\n",
       "3144           Tata      70000  Petrol  Second Owner         120000\n",
       "5256  Mercedes-Benz      17000  Petrol   First Owner        5200000"
      ]
     },
     "execution_count": 2,
     "metadata": {},
     "output_type": "execute_result"
    }
   ],
   "source": [
    "df = pd.read_csv(\"Datasets/cars.csv\")\n",
    "df.sample(4)"
   ]
  },
  {
   "cell_type": "markdown",
   "id": "db64ea2a",
   "metadata": {},
   "source": [
    "# Brand"
   ]
  },
  {
   "cell_type": "raw",
   "id": "d8cb6e33",
   "metadata": {},
   "source": [
    "1. Categorical Column\n",
    "2. No Null Values\n",
    "3. The brands who sold less than 50 cars has been names as others"
   ]
  },
  {
   "cell_type": "code",
   "execution_count": 3,
   "id": "63c96b19",
   "metadata": {},
   "outputs": [
    {
     "data": {
      "text/plain": [
       "Maruti           2448\n",
       "Hyundai          1415\n",
       "Mahindra          772\n",
       "Tata              734\n",
       "Toyota            488\n",
       "Honda             467\n",
       "Ford              397\n",
       "Chevrolet         230\n",
       "Renault           228\n",
       "Volkswagen        186\n",
       "BMW               120\n",
       "Skoda             105\n",
       "Nissan             81\n",
       "Jaguar             71\n",
       "Volvo              67\n",
       "Datsun             65\n",
       "Mercedes-Benz      54\n",
       "Fiat               47\n",
       "Audi               40\n",
       "Lexus              34\n",
       "Jeep               31\n",
       "Mitsubishi         14\n",
       "Force               6\n",
       "Land                6\n",
       "Isuzu               5\n",
       "Kia                 4\n",
       "Ambassador          4\n",
       "Daewoo              3\n",
       "MG                  3\n",
       "Ashok               1\n",
       "Opel                1\n",
       "Peugeot             1\n",
       "Name: brand, dtype: int64"
      ]
     },
     "execution_count": 3,
     "metadata": {},
     "output_type": "execute_result"
    }
   ],
   "source": [
    "df['brand'].value_counts()"
   ]
  },
  {
   "cell_type": "code",
   "execution_count": 4,
   "id": "a5f06e29",
   "metadata": {},
   "outputs": [
    {
     "data": {
      "text/plain": [
       "0     Maruti\n",
       "1      Skoda\n",
       "2      Honda\n",
       "3    Hyundai\n",
       "4     Maruti\n",
       "Name: brand, dtype: object"
      ]
     },
     "execution_count": 4,
     "metadata": {},
     "output_type": "execute_result"
    }
   ],
   "source": [
    "df['brand'].head(5)"
   ]
  },
  {
   "cell_type": "code",
   "execution_count": 5,
   "id": "44791a84",
   "metadata": {},
   "outputs": [
    {
     "ename": "AttributeError",
     "evalue": "'Series' object has no attribute 'info'",
     "output_type": "error",
     "traceback": [
      "\u001b[1;31m---------------------------------------------------------------------------\u001b[0m",
      "\u001b[1;31mAttributeError\u001b[0m                            Traceback (most recent call last)",
      "\u001b[1;32m~\\AppData\\Local\\Temp\\ipykernel_13772\\2361567307.py\u001b[0m in \u001b[0;36m<module>\u001b[1;34m\u001b[0m\n\u001b[1;32m----> 1\u001b[1;33m \u001b[0mdf\u001b[0m\u001b[1;33m[\u001b[0m\u001b[1;34m'brand'\u001b[0m\u001b[1;33m]\u001b[0m\u001b[1;33m.\u001b[0m\u001b[0minfo\u001b[0m\u001b[1;33m(\u001b[0m\u001b[1;33m)\u001b[0m\u001b[1;33m\u001b[0m\u001b[0m\n\u001b[0m",
      "\u001b[1;32m~\\anaconda3\\envs\\car_price\\lib\\site-packages\\pandas\\core\\generic.py\u001b[0m in \u001b[0;36m__getattr__\u001b[1;34m(self, name)\u001b[0m\n\u001b[0;32m   5485\u001b[0m         ):\n\u001b[0;32m   5486\u001b[0m             \u001b[1;32mreturn\u001b[0m \u001b[0mself\u001b[0m\u001b[1;33m[\u001b[0m\u001b[0mname\u001b[0m\u001b[1;33m]\u001b[0m\u001b[1;33m\u001b[0m\u001b[0m\n\u001b[1;32m-> 5487\u001b[1;33m         \u001b[1;32mreturn\u001b[0m \u001b[0mobject\u001b[0m\u001b[1;33m.\u001b[0m\u001b[0m__getattribute__\u001b[0m\u001b[1;33m(\u001b[0m\u001b[0mself\u001b[0m\u001b[1;33m,\u001b[0m \u001b[0mname\u001b[0m\u001b[1;33m)\u001b[0m\u001b[1;33m\u001b[0m\u001b[0m\n\u001b[0m\u001b[0;32m   5488\u001b[0m \u001b[1;33m\u001b[0m\u001b[0m\n\u001b[0;32m   5489\u001b[0m     \u001b[1;32mdef\u001b[0m \u001b[0m__setattr__\u001b[0m\u001b[1;33m(\u001b[0m\u001b[0mself\u001b[0m\u001b[1;33m,\u001b[0m \u001b[0mname\u001b[0m\u001b[1;33m:\u001b[0m \u001b[0mstr\u001b[0m\u001b[1;33m,\u001b[0m \u001b[0mvalue\u001b[0m\u001b[1;33m)\u001b[0m \u001b[1;33m->\u001b[0m \u001b[1;32mNone\u001b[0m\u001b[1;33m:\u001b[0m\u001b[1;33m\u001b[0m\u001b[0m\n",
      "\u001b[1;31mAttributeError\u001b[0m: 'Series' object has no attribute 'info'"
     ]
    }
   ],
   "source": [
    "df['brand'].info()"
   ]
  },
  {
   "cell_type": "code",
   "execution_count": 6,
   "id": "4228b3cc",
   "metadata": {},
   "outputs": [
    {
     "data": {
      "text/plain": [
       "0"
      ]
     },
     "execution_count": 6,
     "metadata": {},
     "output_type": "execute_result"
    }
   ],
   "source": [
    "df['brand'].isna().sum()"
   ]
  },
  {
   "cell_type": "code",
   "execution_count": 7,
   "id": "b1fcb012",
   "metadata": {},
   "outputs": [
    {
     "data": {
      "text/plain": [
       "['Fiat',\n",
       " 'Audi',\n",
       " 'Lexus',\n",
       " 'Jeep',\n",
       " 'Mitsubishi',\n",
       " 'Force',\n",
       " 'Land',\n",
       " 'Isuzu',\n",
       " 'Kia',\n",
       " 'Ambassador',\n",
       " 'Daewoo',\n",
       " 'MG',\n",
       " 'Ashok',\n",
       " 'Opel',\n",
       " 'Peugeot']"
      ]
     },
     "execution_count": 7,
     "metadata": {},
     "output_type": "execute_result"
    }
   ],
   "source": [
    "brand_cnt = df['brand'].value_counts().to_dict()\n",
    "brand_cnt_lst = [i for i in brand_cnt if brand_cnt[i] <= 50]\n",
    "brand_cnt_lst"
   ]
  },
  {
   "cell_type": "code",
   "execution_count": 8,
   "id": "af4c5cf4",
   "metadata": {},
   "outputs": [],
   "source": [
    "df['brand'].replace(brand_cnt_lst, 'others', inplace=True)\n",
    "brand_cnt = df['brand'].value_counts()"
   ]
  },
  {
   "cell_type": "code",
   "execution_count": 9,
   "id": "9d57123c",
   "metadata": {},
   "outputs": [
    {
     "data": {
      "text/plain": [
       "dict_keys(['Maruti', 'Hyundai', 'Mahindra', 'Tata', 'Toyota', 'Honda', 'Ford', 'Chevrolet', 'Renault', 'others', 'Volkswagen', 'BMW', 'Skoda', 'Nissan', 'Jaguar', 'Volvo', 'Datsun', 'Mercedes-Benz'])"
      ]
     },
     "execution_count": 9,
     "metadata": {},
     "output_type": "execute_result"
    }
   ],
   "source": [
    "brand_cnt.to_dict().keys()"
   ]
  },
  {
   "cell_type": "code",
   "execution_count": 10,
   "id": "8dd68ddc",
   "metadata": {},
   "outputs": [],
   "source": [
    "from sklearn.preprocessing import OrdinalEncoder\n",
    "from sklearn.preprocessing import OneHotEncoder"
   ]
  },
  {
   "cell_type": "code",
   "execution_count": 11,
   "id": "0be0e477",
   "metadata": {},
   "outputs": [],
   "source": [
    "ohe = OneHotEncoder(sparse=False)"
   ]
  },
  {
   "cell_type": "code",
   "execution_count": 12,
   "id": "48dc7909",
   "metadata": {},
   "outputs": [],
   "source": [
    "arr = ohe.fit_transform(df[['brand']])"
   ]
  },
  {
   "cell_type": "code",
   "execution_count": 13,
   "id": "c1ca13ac",
   "metadata": {},
   "outputs": [
    {
     "data": {
      "text/plain": [
       "array(['BMW', 'Chevrolet', 'Datsun', 'Ford', 'Honda', 'Hyundai', 'Jaguar',\n",
       "       'Mahindra', 'Maruti', 'Mercedes-Benz', 'Nissan', 'Renault',\n",
       "       'Skoda', 'Tata', 'Toyota', 'Volkswagen', 'Volvo', 'others'],\n",
       "      dtype=object)"
      ]
     },
     "execution_count": 13,
     "metadata": {},
     "output_type": "execute_result"
    }
   ],
   "source": [
    "arr2 = ohe.categories_[0]\n",
    "arr2"
   ]
  },
  {
   "cell_type": "code",
   "execution_count": 14,
   "id": "737a8189",
   "metadata": {},
   "outputs": [
    {
     "data": {
      "text/plain": [
       "(8128, 18)"
      ]
     },
     "execution_count": 14,
     "metadata": {},
     "output_type": "execute_result"
    }
   ],
   "source": [
    "df2 = pd.DataFrame(arr, columns=['BMW', 'Chevrolet', 'Datsun', 'Ford', 'Honda', 'Hyundai', 'Jaguar','Mahindra', 'Maruti', 'Mercedes-Benz', 'Nissan', 'Renault','Skoda', 'Tata', 'Toyota', 'Volkswagen', 'Volvo', 'others'])\n",
    "\n",
    "df2.shape"
   ]
  },
  {
   "cell_type": "code",
   "execution_count": 15,
   "id": "4b82783e",
   "metadata": {},
   "outputs": [
    {
     "data": {
      "text/plain": [
       "['BMW',\n",
       " 'Chevrolet',\n",
       " 'Datsun',\n",
       " 'Ford',\n",
       " 'Honda',\n",
       " 'Hyundai',\n",
       " 'Jaguar',\n",
       " 'Mahindra',\n",
       " 'Maruti',\n",
       " 'Mercedes-Benz',\n",
       " 'Nissan',\n",
       " 'Renault',\n",
       " 'Skoda',\n",
       " 'Tata',\n",
       " 'Toyota',\n",
       " 'Volkswagen',\n",
       " 'Volvo',\n",
       " 'others']"
      ]
     },
     "execution_count": 15,
     "metadata": {},
     "output_type": "execute_result"
    }
   ],
   "source": [
    "['BMW', 'Chevrolet', 'Datsun', 'Ford', 'Honda', 'Hyundai', 'Jaguar',\n",
    "        'Mahindra', 'Maruti', 'Mercedes-Benz', 'Nissan', 'Renault',\n",
    "        'Skoda', 'Tata', 'Toyota', 'Volkswagen', 'Volvo', 'others']"
   ]
  },
  {
   "cell_type": "code",
   "execution_count": null,
   "id": "3615a8e8",
   "metadata": {},
   "outputs": [],
   "source": []
  },
  {
   "cell_type": "code",
   "execution_count": null,
   "id": "4531aa7d",
   "metadata": {},
   "outputs": [],
   "source": []
  },
  {
   "cell_type": "code",
   "execution_count": null,
   "id": "18fd30e0",
   "metadata": {},
   "outputs": [],
   "source": []
  },
  {
   "cell_type": "code",
   "execution_count": null,
   "id": "b9c9fe64",
   "metadata": {},
   "outputs": [],
   "source": []
  },
  {
   "cell_type": "code",
   "execution_count": null,
   "id": "529df3dd",
   "metadata": {},
   "outputs": [],
   "source": []
  },
  {
   "cell_type": "code",
   "execution_count": null,
   "id": "f4b7ee72",
   "metadata": {},
   "outputs": [],
   "source": []
  },
  {
   "cell_type": "code",
   "execution_count": null,
   "id": "0ad60c37",
   "metadata": {},
   "outputs": [],
   "source": []
  },
  {
   "cell_type": "code",
   "execution_count": null,
   "id": "5a53b3e0",
   "metadata": {},
   "outputs": [],
   "source": []
  },
  {
   "cell_type": "markdown",
   "id": "67878a1d",
   "metadata": {},
   "source": [
    "# Km Driven"
   ]
  },
  {
   "cell_type": "raw",
   "id": "5a0541b8",
   "metadata": {},
   "source": [
    "1. Numeric column\n",
    "2. Values are of integar of type\n",
    "3. No null values"
   ]
  },
  {
   "cell_type": "code",
   "execution_count": 16,
   "id": "91f9be5f",
   "metadata": {},
   "outputs": [
    {
     "data": {
      "text/plain": [
       "0"
      ]
     },
     "execution_count": 16,
     "metadata": {},
     "output_type": "execute_result"
    }
   ],
   "source": [
    "df['km_driven'].isna().sum()"
   ]
  },
  {
   "cell_type": "code",
   "execution_count": 17,
   "id": "7f65fd77",
   "metadata": {},
   "outputs": [
    {
     "data": {
      "text/plain": [
       "dtype('int64')"
      ]
     },
     "execution_count": 17,
     "metadata": {},
     "output_type": "execute_result"
    }
   ],
   "source": [
    "df['km_driven'].dtype"
   ]
  },
  {
   "cell_type": "code",
   "execution_count": 18,
   "id": "0ee56fe8",
   "metadata": {},
   "outputs": [],
   "source": [
    "from sklearn.preprocessing import StandardScaler"
   ]
  },
  {
   "cell_type": "code",
   "execution_count": 19,
   "id": "862912a0",
   "metadata": {},
   "outputs": [],
   "source": [
    "scale_obj = StandardScaler()"
   ]
  },
  {
   "cell_type": "code",
   "execution_count": 20,
   "id": "6ae8cd43",
   "metadata": {},
   "outputs": [
    {
     "data": {
      "text/plain": [
       "array([[ 1.33836255],\n",
       "       [ 0.88741086],\n",
       "       [ 1.24109846],\n",
       "       ...,\n",
       "       [ 0.88741086],\n",
       "       [-0.79260528],\n",
       "       [-0.79260528]])"
      ]
     },
     "execution_count": 20,
     "metadata": {},
     "output_type": "execute_result"
    }
   ],
   "source": [
    "scale_obj.fit_transform(df[['km_driven']])"
   ]
  },
  {
   "cell_type": "code",
   "execution_count": null,
   "id": "d12d6256",
   "metadata": {},
   "outputs": [],
   "source": []
  },
  {
   "cell_type": "markdown",
   "id": "61fa1d52",
   "metadata": {},
   "source": [
    "# Fuel"
   ]
  },
  {
   "cell_type": "raw",
   "id": "85544456",
   "metadata": {},
   "source": [
    "1. Fuel is categorical column\n",
    "2. categories are Diesel, Petrol, CNG, LPG which are Ordinal\n",
    "3. No null values."
   ]
  },
  {
   "cell_type": "code",
   "execution_count": 23,
   "id": "c9a3b1c1",
   "metadata": {},
   "outputs": [
    {
     "data": {
      "text/plain": [
       "{'Diesel': 4402, 'Petrol': 3631, 'CNG': 57, 'LPG': 38}"
      ]
     },
     "execution_count": 23,
     "metadata": {},
     "output_type": "execute_result"
    }
   ],
   "source": [
    "df['fuel'].value_counts().to_dict()"
   ]
  },
  {
   "cell_type": "code",
   "execution_count": 24,
   "id": "0f533c99",
   "metadata": {},
   "outputs": [
    {
     "data": {
      "text/plain": [
       "0"
      ]
     },
     "execution_count": 24,
     "metadata": {},
     "output_type": "execute_result"
    }
   ],
   "source": [
    "df['fuel'].isna().sum()"
   ]
  },
  {
   "cell_type": "code",
   "execution_count": 25,
   "id": "3e05e8e1",
   "metadata": {},
   "outputs": [],
   "source": [
    "from sklearn.preprocessing import OrdinalEncoder"
   ]
  },
  {
   "cell_type": "code",
   "execution_count": 26,
   "id": "6a9b7060",
   "metadata": {},
   "outputs": [],
   "source": [
    "ord_encdr1 = OrdinalEncoder()"
   ]
  },
  {
   "cell_type": "code",
   "execution_count": 27,
   "id": "d31aaa24",
   "metadata": {},
   "outputs": [
    {
     "data": {
      "text/plain": [
       "array([[1.],\n",
       "       [1.],\n",
       "       [3.],\n",
       "       ...,\n",
       "       [1.],\n",
       "       [1.],\n",
       "       [1.]])"
      ]
     },
     "execution_count": 27,
     "metadata": {},
     "output_type": "execute_result"
    }
   ],
   "source": [
    "ord_encdr1.fit_transform(df[['fuel']])"
   ]
  },
  {
   "cell_type": "code",
   "execution_count": 28,
   "id": "c11f6cb3",
   "metadata": {},
   "outputs": [
    {
     "data": {
      "text/plain": [
       "[array(['CNG', 'Diesel', 'LPG', 'Petrol'], dtype=object)]"
      ]
     },
     "execution_count": 28,
     "metadata": {},
     "output_type": "execute_result"
    }
   ],
   "source": [
    "ord_encdr1.categories_"
   ]
  },
  {
   "cell_type": "markdown",
   "id": "d26d6b4e",
   "metadata": {},
   "source": [
    "# Owner"
   ]
  },
  {
   "cell_type": "raw",
   "id": "9dca1829",
   "metadata": {},
   "source": [
    "1. This is categorical in which orders are nominal.\n",
    "2. Categories are [First Owner, Second Owner, Third Owner, Fourth & Above Owner, Test Drive Car]"
   ]
  },
  {
   "cell_type": "code",
   "execution_count": 29,
   "id": "f02977ef",
   "metadata": {},
   "outputs": [
    {
     "data": {
      "text/plain": [
       "{'First Owner': 5289,\n",
       " 'Second Owner': 2105,\n",
       " 'Third Owner': 555,\n",
       " 'Fourth & Above Owner': 174,\n",
       " 'Test Drive Car': 5}"
      ]
     },
     "execution_count": 29,
     "metadata": {},
     "output_type": "execute_result"
    }
   ],
   "source": [
    "df['owner'].value_counts().to_dict()"
   ]
  },
  {
   "cell_type": "code",
   "execution_count": 30,
   "id": "d164ff73",
   "metadata": {},
   "outputs": [
    {
     "data": {
      "text/plain": [
       "0"
      ]
     },
     "execution_count": 30,
     "metadata": {},
     "output_type": "execute_result"
    }
   ],
   "source": [
    "df['owner'].isna().sum()"
   ]
  },
  {
   "cell_type": "code",
   "execution_count": 31,
   "id": "c3df4bd9",
   "metadata": {},
   "outputs": [],
   "source": [
    "ord_encdr2 = OrdinalEncoder()"
   ]
  },
  {
   "cell_type": "code",
   "execution_count": 32,
   "id": "0f0eb874",
   "metadata": {},
   "outputs": [
    {
     "data": {
      "text/plain": [
       "array([[0.],\n",
       "       [2.],\n",
       "       [4.],\n",
       "       ...,\n",
       "       [0.],\n",
       "       [0.],\n",
       "       [0.]])"
      ]
     },
     "execution_count": 32,
     "metadata": {},
     "output_type": "execute_result"
    }
   ],
   "source": [
    "ord_encdr2.fit_transform(df[['owner']])"
   ]
  },
  {
   "cell_type": "markdown",
   "id": "ba8a4f87",
   "metadata": {},
   "source": [
    "# Column Transformer"
   ]
  },
  {
   "cell_type": "code",
   "execution_count": 33,
   "id": "3dac0e26",
   "metadata": {},
   "outputs": [],
   "source": [
    "from sklearn.compose import ColumnTransformer"
   ]
  },
  {
   "cell_type": "code",
   "execution_count": 34,
   "id": "8fda8f4c",
   "metadata": {},
   "outputs": [],
   "source": [
    "clm_trf = ColumnTransformer([(\"ordi_encdr\", OrdinalEncoder(), [2, 3]),\n",
    "                  (\"ohe_encdr\", OneHotEncoder(drop='first', sparse=False), [0]),\n",
    "                  ('std_scaling', StandardScaler(), [1])],\n",
    "                 remainder='passthrough')"
   ]
  },
  {
   "cell_type": "code",
   "execution_count": 35,
   "id": "0854fb0d",
   "metadata": {},
   "outputs": [],
   "source": [
    "x = clm_trf.fit_transform(df)"
   ]
  },
  {
   "cell_type": "code",
   "execution_count": 36,
   "id": "0672b20d",
   "metadata": {},
   "outputs": [
    {
     "data": {
      "text/plain": [
       "(8128, 21)"
      ]
     },
     "execution_count": 36,
     "metadata": {},
     "output_type": "execute_result"
    }
   ],
   "source": [
    "x.shape"
   ]
  },
  {
   "cell_type": "code",
   "execution_count": 37,
   "id": "63e17332",
   "metadata": {},
   "outputs": [
    {
     "data": {
      "text/plain": [
       "array([1.00000000e+00, 0.00000000e+00, 0.00000000e+00, 0.00000000e+00,\n",
       "       0.00000000e+00, 0.00000000e+00, 0.00000000e+00, 0.00000000e+00,\n",
       "       0.00000000e+00, 1.00000000e+00, 0.00000000e+00, 0.00000000e+00,\n",
       "       0.00000000e+00, 0.00000000e+00, 0.00000000e+00, 0.00000000e+00,\n",
       "       0.00000000e+00, 0.00000000e+00, 0.00000000e+00, 1.33836255e+00,\n",
       "       4.50000000e+05])"
      ]
     },
     "execution_count": 37,
     "metadata": {},
     "output_type": "execute_result"
    }
   ],
   "source": [
    "x[0]"
   ]
  },
  {
   "cell_type": "code",
   "execution_count": 53,
   "id": "e2db2236",
   "metadata": {},
   "outputs": [],
   "source": [
    "y = clm_trf.transform([['Skoda', 145500, 'Diesel', 'Second Owner']])"
   ]
  },
  {
   "cell_type": "code",
   "execution_count": 54,
   "id": "2cec9b6e",
   "metadata": {},
   "outputs": [
    {
     "data": {
      "text/plain": [
       "array([[1.        , 2.        , 0.        , 0.        , 0.        ,\n",
       "        0.        , 0.        , 0.        , 0.        , 0.        ,\n",
       "        0.        , 0.        , 0.        , 1.        , 0.        ,\n",
       "        0.        , 0.        , 0.        , 0.        , 1.33836255]])"
      ]
     },
     "execution_count": 54,
     "metadata": {},
     "output_type": "execute_result"
    }
   ],
   "source": [
    "y"
   ]
  },
  {
   "cell_type": "code",
   "execution_count": 40,
   "id": "916dadbb",
   "metadata": {},
   "outputs": [
    {
     "data": {
      "text/html": [
       "<div>\n",
       "<style scoped>\n",
       "    .dataframe tbody tr th:only-of-type {\n",
       "        vertical-align: middle;\n",
       "    }\n",
       "\n",
       "    .dataframe tbody tr th {\n",
       "        vertical-align: top;\n",
       "    }\n",
       "\n",
       "    .dataframe thead th {\n",
       "        text-align: right;\n",
       "    }\n",
       "</style>\n",
       "<table border=\"1\" class=\"dataframe\">\n",
       "  <thead>\n",
       "    <tr style=\"text-align: right;\">\n",
       "      <th></th>\n",
       "      <th>brand</th>\n",
       "      <th>km_driven</th>\n",
       "      <th>fuel</th>\n",
       "      <th>owner</th>\n",
       "      <th>selling_price</th>\n",
       "    </tr>\n",
       "  </thead>\n",
       "  <tbody>\n",
       "    <tr>\n",
       "      <th>0</th>\n",
       "      <td>Maruti</td>\n",
       "      <td>145500</td>\n",
       "      <td>Diesel</td>\n",
       "      <td>First Owner</td>\n",
       "      <td>450000</td>\n",
       "    </tr>\n",
       "    <tr>\n",
       "      <th>1</th>\n",
       "      <td>Skoda</td>\n",
       "      <td>120000</td>\n",
       "      <td>Diesel</td>\n",
       "      <td>Second Owner</td>\n",
       "      <td>370000</td>\n",
       "    </tr>\n",
       "  </tbody>\n",
       "</table>\n",
       "</div>"
      ],
      "text/plain": [
       "    brand  km_driven    fuel         owner  selling_price\n",
       "0  Maruti     145500  Diesel   First Owner         450000\n",
       "1   Skoda     120000  Diesel  Second Owner         370000"
      ]
     },
     "execution_count": 40,
     "metadata": {},
     "output_type": "execute_result"
    }
   ],
   "source": [
    "df.head(2)"
   ]
  },
  {
   "cell_type": "code",
   "execution_count": null,
   "id": "23a8ac09",
   "metadata": {},
   "outputs": [],
   "source": []
  },
  {
   "cell_type": "code",
   "execution_count": 41,
   "id": "08b9b6f5",
   "metadata": {},
   "outputs": [],
   "source": [
    "from sklearn.pipeline import Pipeline\n",
    "from sklearn.linear_model import LinearRegression"
   ]
  },
  {
   "cell_type": "code",
   "execution_count": 42,
   "id": "6702acf7",
   "metadata": {},
   "outputs": [],
   "source": [
    "lr_model = LinearRegression()"
   ]
  },
  {
   "cell_type": "code",
   "execution_count": 43,
   "id": "3ee9229a",
   "metadata": {},
   "outputs": [],
   "source": [
    "pipe = Pipeline([('tr1', clm_trf),\n",
    "                ('lr_model', lr_model)])"
   ]
  },
  {
   "cell_type": "code",
   "execution_count": 44,
   "id": "7990e0a7",
   "metadata": {},
   "outputs": [],
   "source": [
    "x = df.drop(['selling_price'], axis=1).values\n",
    "y = df['selling_price']\n"
   ]
  },
  {
   "cell_type": "code",
   "execution_count": 45,
   "id": "acca0d9b",
   "metadata": {},
   "outputs": [
    {
     "data": {
      "text/plain": [
       "array([['Maruti', 145500, 'Diesel', 'First Owner'],\n",
       "       ['Skoda', 120000, 'Diesel', 'Second Owner'],\n",
       "       ['Honda', 140000, 'Petrol', 'Third Owner'],\n",
       "       ...,\n",
       "       ['Maruti', 120000, 'Diesel', 'First Owner'],\n",
       "       ['Tata', 25000, 'Diesel', 'First Owner'],\n",
       "       ['Tata', 25000, 'Diesel', 'First Owner']], dtype=object)"
      ]
     },
     "execution_count": 45,
     "metadata": {},
     "output_type": "execute_result"
    }
   ],
   "source": [
    "x"
   ]
  },
  {
   "cell_type": "code",
   "execution_count": null,
   "id": "50e6fc77",
   "metadata": {},
   "outputs": [],
   "source": []
  },
  {
   "cell_type": "code",
   "execution_count": 46,
   "id": "9032fdad",
   "metadata": {},
   "outputs": [
    {
     "data": {
      "text/plain": [
       "Pipeline(steps=[('tr1',\n",
       "                 ColumnTransformer(remainder='passthrough',\n",
       "                                   transformers=[('ordi_encdr',\n",
       "                                                  OrdinalEncoder(), [2, 3]),\n",
       "                                                 ('ohe_encdr',\n",
       "                                                  OneHotEncoder(drop='first',\n",
       "                                                                sparse=False),\n",
       "                                                  [0]),\n",
       "                                                 ('std_scaling',\n",
       "                                                  StandardScaler(), [1])])),\n",
       "                ('lr_model', LinearRegression())])"
      ]
     },
     "execution_count": 46,
     "metadata": {},
     "output_type": "execute_result"
    }
   ],
   "source": [
    "pipe.fit(x, y)"
   ]
  },
  {
   "cell_type": "code",
   "execution_count": 47,
   "id": "27f6f288",
   "metadata": {},
   "outputs": [
    {
     "data": {
      "text/plain": [
       "array([430535.27564036])"
      ]
     },
     "execution_count": 47,
     "metadata": {},
     "output_type": "execute_result"
    }
   ],
   "source": [
    "pipe.predict([['Skoda', 145500, 'Diesel', 'Second Owner']])"
   ]
  },
  {
   "cell_type": "code",
   "execution_count": 48,
   "id": "38e5678d",
   "metadata": {},
   "outputs": [],
   "source": [
    "import pickle\n",
    "\n",
    "pickle.dump(pipe, open(\"car_price_model.pkl\", \"wb\"))"
   ]
  },
  {
   "cell_type": "code",
   "execution_count": 49,
   "id": "c6286c75",
   "metadata": {},
   "outputs": [],
   "source": [
    "obj = open(\"car_price_model.pkl\", \"rb\")\n"
   ]
  },
  {
   "cell_type": "code",
   "execution_count": 50,
   "id": "475dc9be",
   "metadata": {},
   "outputs": [],
   "source": [
    "model = pickle.load(obj)"
   ]
  },
  {
   "cell_type": "code",
   "execution_count": 51,
   "id": "5bd96daf",
   "metadata": {},
   "outputs": [
    {
     "data": {
      "text/plain": [
       "array([430535.27564036])"
      ]
     },
     "execution_count": 51,
     "metadata": {},
     "output_type": "execute_result"
    }
   ],
   "source": [
    "model.predict([['Skoda', 145500, 'Diesel', 'Second Owner']])"
   ]
  },
  {
   "cell_type": "code",
   "execution_count": null,
   "id": "af12df3b",
   "metadata": {},
   "outputs": [],
   "source": []
  },
  {
   "cell_type": "code",
   "execution_count": null,
   "id": "efda5fbb",
   "metadata": {},
   "outputs": [],
   "source": []
  }
 ],
 "metadata": {
  "kernelspec": {
   "display_name": "Python 3 (ipykernel)",
   "language": "python",
   "name": "python3"
  },
  "language_info": {
   "codemirror_mode": {
    "name": "ipython",
    "version": 3
   },
   "file_extension": ".py",
   "mimetype": "text/x-python",
   "name": "python",
   "nbconvert_exporter": "python",
   "pygments_lexer": "ipython3",
   "version": "3.7.0"
  }
 },
 "nbformat": 4,
 "nbformat_minor": 5
}
